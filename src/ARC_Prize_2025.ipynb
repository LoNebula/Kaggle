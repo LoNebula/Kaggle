{
 "cells": [
  {
   "cell_type": "code",
   "execution_count": 40,
   "id": "ccc20070",
   "metadata": {},
   "outputs": [],
   "source": [
    "# This Python 3 environment comes with many helpful analytics libraries installed\n",
    "# It is defined by the kaggle/python Docker image: https://github.com/kaggle/docker-python\n",
    "# For example, here's several helpful packages to load\n",
    "\n",
    "import numpy as np # linear algebra\n",
    "import pandas as pd # data processing, CSV file I/O (e.g. pd.read_csv)\n",
    "\n",
    "# Input data files are available in the read-only \"../input/\" directory\n",
    "# For example, running this (by clicking run or pressing Shift+Enter) will list all files under the input directory\n",
    "\n",
    "import os\n",
    "for dirname, _, filenames in os.walk('/kaggle/input'):\n",
    "    for filename in filenames:\n",
    "        print(os.path.join(dirname, filename))\n",
    "\n",
    "# You can write up to 20GB to the current directory (/kaggle/working/) that gets preserved as output when you create a version using \"Save & Run All\" \n",
    "# You can also write temporary files to /kaggle/temp/, but they won't be saved outside of the current session"
   ]
  },
  {
   "cell_type": "code",
   "execution_count": null,
   "id": "caa9c6ff",
   "metadata": {},
   "outputs": [],
   "source": [
    "import json\n",
    "import torch\n",
    "import torch.nn as nn\n",
    "import torch.optim as optim\n",
    "import torch.utils.data as data\n",
    "import math\n",
    "import copy"
   ]
  },
  {
   "cell_type": "code",
   "execution_count": null,
   "id": "4d7b4fb0",
   "metadata": {},
   "outputs": [
    {
     "name": "stdout",
     "output_type": "stream",
     "text": [
      "1000 1000 120 120\n",
      "head of train_solutions\n",
      "[[[3, 2, 3, 2, 3, 2], [7, 8, 7, 8, 7, 8], [2, 3, 2, 3, 2, 3], [8, 7, 8, 7, 8, 7], [3, 2, 3, 2, 3, 2], [7, 8, 7, 8, 7, 8]]]\n",
      "head of train_challenges\n",
      "{'train': [{'input': [[7, 9], [4, 3]], 'output': [[7, 9, 7, 9, 7, 9], [4, 3, 4, 3, 4, 3], [9, 7, 9, 7, 9, 7], [3, 4, 3, 4, 3, 4], [7, 9, 7, 9, 7, 9], [4, 3, 4, 3, 4, 3]]}, {'input': [[8, 6], [6, 4]], 'output': [[8, 6, 8, 6, 8, 6], [6, 4, 6, 4, 6, 4], [6, 8, 6, 8, 6, 8], [4, 6, 4, 6, 4, 6], [8, 6, 8, 6, 8, 6], [6, 4, 6, 4, 6, 4]]}], 'test': [{'input': [[3, 2], [7, 8]]}]}\n",
      "dict_keys(['train', 'test'])\n",
      "[{'input': [[7, 9], [4, 3]], 'output': [[7, 9, 7, 9, 7, 9], [4, 3, 4, 3, 4, 3], [9, 7, 9, 7, 9, 7], [3, 4, 3, 4, 3, 4], [7, 9, 7, 9, 7, 9], [4, 3, 4, 3, 4, 3]]}, {'input': [[8, 6], [6, 4]], 'output': [[8, 6, 8, 6, 8, 6], [6, 4, 6, 4, 6, 4], [6, 8, 6, 8, 6, 8], [4, 6, 4, 6, 4, 6], [8, 6, 8, 6, 8, 6], [6, 4, 6, 4, 6, 4]]}]\n",
      "{'input': [[7, 9], [4, 3]], 'output': [[7, 9, 7, 9, 7, 9], [4, 3, 4, 3, 4, 3], [9, 7, 9, 7, 9, 7], [3, 4, 3, 4, 3, 4], [7, 9, 7, 9, 7, 9], [4, 3, 4, 3, 4, 3]]}\n",
      "[[7, 9], [4, 3]]\n",
      "[[7, 9, 7, 9, 7, 9], [4, 3, 4, 3, 4, 3], [9, 7, 9, 7, 9, 7], [3, 4, 3, 4, 3, 4], [7, 9, 7, 9, 7, 9], [4, 3, 4, 3, 4, 3]]\n",
      "[7, 9]\n"
     ]
    }
   ],
   "source": [
    "# train_solutions = json.loads(\"/kaggle/input/arc-prize-2025/arc-agi_training_solutions.json\")\n",
    "# train_challenges = json.loads(\"/kaggle/input/arc-prize-2025/arc-agi_training_challenges.json\")\n",
    "# eval_solutions = json.loads(\"/kaggle/input/arc-prize-2025/arc-agi_evaluation_solutions.json\")\n",
    "# eval_challenges = json.loads(\"/kaggle/input/arc-prize-2025/arc-agi_evaluation_challenges.json\")\n",
    "\n",
    "# file_path\n",
    "train_solutions = json.loads(open(\"data/ARC_Prize_2025/arc-agi_training_solutions.json\").read())\n",
    "train_challenges = json.loads(open(\"data/ARC_Prize_2025/arc-agi_training_challenges.json\").read())\n",
    "eval_solutions = json.loads(open(\"data/ARC_Prize_2025/arc-agi_evaluation_solutions.json\").read())\n",
    "eval_challenges = json.loads(open(\"data/ARC_Prize_2025/arc-agi_evaluation_challenges.json\").read())\n",
    "\n",
    "# print the length of each dataset\n",
    "print(len(train_solutions), len(train_challenges), len(eval_solutions), len(eval_challenges))\n",
    "print(\"head of train_solutions\")\n",
    "print(train_solutions[\"00576224\"])\n",
    "print(\"head of train_challenges\")\n",
    "print(train_challenges[\"00576224\"])\n",
    "print(train_challenges[\"00576224\"].keys())\n",
    "print(train_challenges[\"00576224\"][\"train\"])\n",
    "print(train_challenges[\"00576224\"][\"train\"][0])\n",
    "print(train_challenges[\"00576224\"][\"train\"][0][\"input\"])\n",
    "print(train_challenges[\"00576224\"][\"train\"][0][\"output\"])\n",
    "print(train_challenges[\"00576224\"][\"train\"][0][\"input\"][0])"
   ]
  },
  {
   "cell_type": "markdown",
   "id": "a474a670",
   "metadata": {},
   "source": [
    "- Transformers\n",
    "- Graph Neural Networks\n",
    "- Program Synthesis / Sysbolic AI\n",
    "- Neuro-Symbolic AI\n",
    "\n",
    "1. First of all, CNN + Transformers is the base line.\n",
    "2. Second of all, Vision Transformer + Attension.\n",
    "3. Third of all, Graph Neural Network.\n",
    "4. Last of all, Neuro-Symbolic like hybrid approach."
   ]
  },
  {
   "cell_type": "markdown",
   "id": "7d8d033a",
   "metadata": {},
   "source": [
    "# Transformers"
   ]
  },
  {
   "cell_type": "code",
   "execution_count": null,
   "id": "d489b10d",
   "metadata": {},
   "outputs": [],
   "source": [
    "class MultiHeadAttention(nn.Module):\n",
    "    def __init__(self, d_model, num_heads):\n",
    "        super(MultiHeadAttention, self).__init__()\n",
    "        assert d_model % num_heads == 0\n",
    "\n",
    "        # Initialize dimensions\n",
    "        self.d_model = d_model\n",
    "        self.num_heads = num_heads\n",
    "        self.d_k = d_model // num_heads\n",
    "\n",
    "        # Linear layers for transforming inputs\n",
    "        self.W_q = nn.Linear(d_model, d_model) # Query\n",
    "        self.W_k = nn.Linear(d_model, d_model) # Key\n",
    "        self.W_v = nn.Linear(d_model, d_model) # Value\n",
    "        self.W_o = nn.Linear(d_model, d_model) # Output\n",
    "\n",
    "    def scaled_dot_product_attention(self, Q, K, V, mask=None):\n",
    "        # Calculate attention scores\n",
    "        attn_scores = torch.matmul(Q, K.transpose(-2, -1)) / math.sqrt(self.d_k)"
   ]
  },
  {
   "cell_type": "code",
   "execution_count": null,
   "id": "da926741",
   "metadata": {},
   "outputs": [
    {
     "name": "stdout",
     "output_type": "stream",
     "text": [
      "0 00576224\n",
      "1 007bbfb7\n",
      "2 009d5c81\n",
      "3 00d62c1b\n"
     ]
    }
   ],
   "source": [
    "for i, tensordict in enumerate(train_challenges):\n",
    "    print(i, tensordict)\n",
    "    if i == 3:\n",
    "        break"
   ]
  }
 ],
 "metadata": {
  "kernelspec": {
   "display_name": "Python 3",
   "language": "python",
   "name": "python3"
  },
  "language_info": {
   "codemirror_mode": {
    "name": "ipython",
    "version": 3
   },
   "file_extension": ".py",
   "mimetype": "text/x-python",
   "name": "python",
   "nbconvert_exporter": "python",
   "pygments_lexer": "ipython3",
   "version": "3.10.12"
  }
 },
 "nbformat": 4,
 "nbformat_minor": 5
}
